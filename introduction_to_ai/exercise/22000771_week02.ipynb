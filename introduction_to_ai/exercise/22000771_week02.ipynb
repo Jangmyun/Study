{
 "cells": [
  {
   "cell_type": "code",
   "execution_count": 3,
   "metadata": {},
   "outputs": [],
   "source": [
    "# Exercise 1\n",
    "def sum(n: int) -> int:\n",
    "    if (n <= 0):\n",
    "        return 0\n",
    "    return n + sum(n-1)\n",
    "\n",
    "\n",
    "def is_odd(num: int) -> str:\n",
    "    if (num & 1 == 0):\n",
    "        return \"Even\"\n",
    "    return \"Odd\""
   ]
  },
  {
   "cell_type": "code",
   "execution_count": 4,
   "metadata": {},
   "outputs": [
    {
     "data": {
      "text/plain": [
       "55"
      ]
     },
     "execution_count": 4,
     "metadata": {},
     "output_type": "execute_result"
    }
   ],
   "source": [
    "sum(10)"
   ]
  },
  {
   "cell_type": "code",
   "execution_count": 5,
   "metadata": {},
   "outputs": [
    {
     "data": {
      "text/plain": [
       "'Odd'"
      ]
     },
     "execution_count": 5,
     "metadata": {},
     "output_type": "execute_result"
    }
   ],
   "source": [
    "is_odd(3)"
   ]
  },
  {
   "cell_type": "code",
   "execution_count": 6,
   "metadata": {},
   "outputs": [],
   "source": [
    "import numpy as np\n",
    "import openpyxl\n",
    "\n",
    "file = openpyxl.load_workbook(\"./data_set_train.xlsx\")\n",
    "ws = file.active\n",
    "\n",
    "data = []\n",
    "col = []\n",
    "\n",
    "for row in ws.iter_rows(max_row=1):\n",
    "  for cell in row:\n",
    "    col.append(cell.value)\n",
    "\n",
    "for row in ws. iter_rows(min_row=2):\n",
    "  ls = []\n",
    "  for cell in row:\n",
    "    ls.append(cell.value)\n",
    "  data.append(ls)"
   ]
  },
  {
   "cell_type": "code",
   "execution_count": 7,
   "metadata": {},
   "outputs": [
    {
     "data": {
      "text/plain": [
       "(17400, 29)"
      ]
     },
     "execution_count": 7,
     "metadata": {},
     "output_type": "execute_result"
    }
   ],
   "source": [
    "arr = np.array(data)\n",
    "arr.shape"
   ]
  },
  {
   "cell_type": "code",
   "execution_count": 8,
   "metadata": {},
   "outputs": [
    {
     "data": {
      "text/plain": [
       "array([['강남역우정에쉐르', '2006Q1', '9000.0', ..., '7.0', '37.4942041',\n",
       "        '127.0435446'],\n",
       "       ['강남역우정에쉐르', '2006Q1', '9000.0', ..., '7.0', '37.4942041',\n",
       "        '127.0435446'],\n",
       "       ['개포주공1단지', '2006Q1', '73000.0', ..., '3.0', '37.4784072',\n",
       "        '127.061375'],\n",
       "       ...,\n",
       "       ['현대하이츠', '2017Q3', '64000.0', ..., '1.0', '37.4913789',\n",
       "        '127.0348797'],\n",
       "       ['현대한강', '2017Q3', '170000.0', ..., '8.0', '37.5246752',\n",
       "        '127.056226'],\n",
       "       ['현대한강', '2017Q3', '170000.0', ..., '8.0', '37.5246752',\n",
       "        '127.056226']], shape=(17400, 9), dtype='<U32')"
      ]
     },
     "execution_count": 8,
     "metadata": {},
     "output_type": "execute_result"
    }
   ],
   "source": [
    "data_set = arr[:,:9] # 모든 행에서 첫 9개 \n",
    "data_set"
   ]
  },
  {
   "cell_type": "code",
   "execution_count": 9,
   "metadata": {},
   "outputs": [
    {
     "data": {
      "text/plain": [
       "array([['강남역우정에쉐르', '2006Q1', '9000.0', ..., '7.0', '37.4942041',\n",
       "        '127.0435446'],\n",
       "       ['강남역우정에쉐르', '2006Q1', '9000.0', ..., '7.0', '37.4942041',\n",
       "        '127.0435446'],\n",
       "       ['개포주공1단지', '2006Q1', '73000.0', ..., '3.0', '37.4784072',\n",
       "        '127.061375'],\n",
       "       ...,\n",
       "       ['현대빌라트', '2006Q4', '125000.0', ..., '3.0', '37.5179279',\n",
       "        '127.0428004'],\n",
       "       ['현대빌라트', '2006Q4', '125000.0', ..., '3.0', '37.5179279',\n",
       "        '127.0428004'],\n",
       "       ['현대빌라트', '2006Q4', '125000.0', ..., '3.0', '37.5179279',\n",
       "        '127.0428004']], shape=(2617, 9), dtype='<U32')"
      ]
     },
     "execution_count": 9,
     "metadata": {},
     "output_type": "execute_result"
    }
   ],
   "source": [
    "# Exercise 2\n",
    "data_set2006 = data_set[data_set[:,1] <= \"2006Q4\",:]\n",
    "data_set2006"
   ]
  },
  {
   "cell_type": "code",
   "execution_count": 10,
   "metadata": {},
   "outputs": [
    {
     "data": {
      "text/plain": [
       "(2617, 9)"
      ]
     },
     "execution_count": 10,
     "metadata": {},
     "output_type": "execute_result"
    }
   ],
   "source": [
    "data_set2006.shape"
   ]
  },
  {
   "cell_type": "code",
   "execution_count": null,
   "metadata": {},
   "outputs": [],
   "source": []
  },
  {
   "cell_type": "code",
   "execution_count": 11,
   "metadata": {},
   "outputs": [
    {
     "data": {
      "text/plain": [
       "dtype('<U32')"
      ]
     },
     "execution_count": 11,
     "metadata": {},
     "output_type": "execute_result"
    }
   ],
   "source": [
    "price = data_set2006[:,2]\n",
    "price.dtype"
   ]
  },
  {
   "cell_type": "code",
   "execution_count": 12,
   "metadata": {},
   "outputs": [
    {
     "name": "stdout",
     "output_type": "stream",
     "text": [
      "['강남역우정에쉐르' '2006Q1' '9000.0' '2004.0' '역삼동' '17.23' '7.0' '37.4942041'\n",
      " '127.0435446']\n"
     ]
    }
   ],
   "source": [
    "print(data_set2006[0])\n",
    "\n",
    "price = data_set2006[:,2].astype(float)\n",
    "lat = data_set2006[:,7].astype(float)\n",
    "lng = data_set2006[:,8].astype(float)"
   ]
  },
  {
   "cell_type": "code",
   "execution_count": 13,
   "metadata": {},
   "outputs": [
    {
     "data": {
      "text/plain": [
       "array([[1.        , 0.03241268],\n",
       "       [0.03241268, 1.        ]])"
      ]
     },
     "execution_count": 13,
     "metadata": {},
     "output_type": "execute_result"
    }
   ],
   "source": [
    "# Exercise 3\n",
    "\n",
    "station = arr[:,19].astype(float)\n",
    "price = arr[:,2].astype(float)\n",
    "np.corrcoef(price, station )"
   ]
  },
  {
   "cell_type": "code",
   "execution_count": null,
   "metadata": {},
   "outputs": [],
   "source": []
  },
  {
   "cell_type": "code",
   "execution_count": 14,
   "metadata": {},
   "outputs": [
    {
     "name": "stdout",
     "output_type": "stream",
     "text": [
      "2006년 매매 평균가격은 : 67076.57928926252\n",
      "2007년 매매 평균가격은 : 58405.71893939394\n",
      "2008년 매매 평균가격은 : 66136.66583747928\n",
      "2009년 매매 평균가격은 : 83060.50290939318\n",
      "2010년 매매 평균가격은 : 77282.02958093672\n",
      "2011년 매매 평균가격은 : 76748.97150610584\n",
      "2012년 매매 평균가격은 : 72714.51982378855\n",
      "2013년 매매 평균가격은 : 78839.01584905661\n",
      "2014년 매매 평균가격은 : 84002.69641434263\n",
      "2015년 매매 평균가격은 : 87213.44117647059\n",
      "2016년 매매 평균가격은 : 97149.95279838167\n",
      "2017년 매매 평균가격은 : 114656.7944877172\n"
     ]
    }
   ],
   "source": [
    "# Exercise 4 - Yearly Average Price\n",
    "# 년도 별 평균 매매가\n",
    "\n",
    "yearlyAvgPrice = {}\n",
    "\n",
    "yearQuarterArr = []\n",
    "\n",
    "# 우선 numpy를 이용해 각 연도를 찾기 위해 \"2016Q1\"처럼 해당하는 스트링이 있는지를 체크하는 함수 선언\n",
    "for year in range(2006, 2018): # 2006-2017\n",
    "  yearArr = []\n",
    "  for quarter in [\"Q1\", \"Q2\", \"Q3\", \"Q4\"]:\n",
    "    yearArr.append(str(year)+quarter)\n",
    "  yearQuarterArr.append(yearArr)\n",
    "  \n",
    "  yearlyAvgPrice[year] = data_set[np.isin(data_set[:,1], yearArr),2].astype(float)\n",
    "\n",
    "yearQuarterArr[len(yearQuarterArr)-1].pop()\n",
    "\n",
    "for year in yearlyAvgPrice.keys():\n",
    "  print(str(year) +\"년 매매 평균가격은 : \"+ str(yearlyAvgPrice[year].mean()))"
   ]
  },
  {
   "cell_type": "code",
   "execution_count": 15,
   "metadata": {},
   "outputs": [
    {
     "name": "stdout",
     "output_type": "stream",
     "text": [
      "2006Q1 매매 평균가격은 : 65661.1664\n",
      "2006Q2 매매 평균가격은 : 59592.4875\n",
      "2006Q3 매매 평균가격은 : 62410.7243\n",
      "2006Q4 매매 평균가격은 : 79588.8299\n",
      "2007Q1 매매 평균가격은 : 47336.3963\n",
      "2007Q2 매매 평균가격은 : 65344.6074\n",
      "2007Q3 매매 평균가격은 : 58634.6921\n",
      "2007Q4 매매 평균가격은 : 59687.8912\n",
      "2008Q1 매매 평균가격은 : 63515.5766\n",
      "2008Q2 매매 평균가격은 : 62458.8462\n",
      "2008Q3 매매 평균가격은 : 72233.9635\n",
      "2008Q4 매매 평균가격은 : 72608.6237\n",
      "2009Q1 매매 평균가격은 : 85574.7692\n",
      "2009Q2 매매 평균가격은 : 84314.4224\n",
      "2009Q3 매매 평균가격은 : 83246.4746\n",
      "2009Q4 매매 평균가격은 : 78589.3036\n",
      "2010Q1 매매 평균가격은 : 80386.7252\n",
      "2010Q2 매매 평균가격은 : 71885.8216\n",
      "2010Q3 매매 평균가격은 : 72697.5806\n",
      "2010Q4 매매 평균가격은 : 82475.9840\n",
      "2011Q1 매매 평균가격은 : 77359.4958\n",
      "2011Q2 매매 평균가격은 : 68071.2436\n",
      "2011Q3 매매 평균가격은 : 78499.7708\n",
      "2011Q4 매매 평균가격은 : 82607.8638\n",
      "2012Q1 매매 평균가격은 : 73633.6134\n",
      "2012Q2 매매 평균가격은 : 73102.3466\n",
      "2012Q3 매매 평균가격은 : 78050.4902\n",
      "2012Q4 매매 평균가격은 : 69313.7740\n",
      "2013Q1 매매 평균가격은 : 77980.5108\n",
      "2013Q2 매매 평균가격은 : 76391.8533\n",
      "2013Q3 매매 평균가격은 : 76638.4723\n",
      "2013Q4 매매 평균가격은 : 84570.1393\n",
      "2014Q1 매매 평균가격은 : 84038.7697\n",
      "2014Q2 매매 평균가격은 : 81931.4027\n",
      "2014Q3 매매 평균가격은 : 79218.3553\n",
      "2014Q4 매매 평균가격은 : 90134.3929\n",
      "2015Q1 매매 평균가격은 : 76180.1351\n",
      "2015Q2 매매 평균가격은 : 81677.2840\n",
      "2015Q3 매매 평균가격은 : 98509.4316\n",
      "2015Q4 매매 평균가격은 : 93279.7126\n",
      "2016Q1 매매 평균가격은 : 87456.0668\n",
      "2016Q2 매매 평균가격은 : 94492.7371\n",
      "2016Q3 매매 평균가격은 : 104774.8210\n",
      "2016Q4 매매 평균가격은 : 102236.9281\n",
      "2017Q1 매매 평균가격은 : 113074.1538\n",
      "2017Q2 매매 평균가격은 : 110766.6667\n",
      "2017Q3 매매 평균가격은 : 124098.4375\n"
     ]
    }
   ],
   "source": [
    "# Exercise 5 - Quarterly Average Price\n",
    "\n",
    "quarterlyPrices = {}\n",
    "\n",
    "for year in yearQuarterArr:\n",
    "  for quarter in year:\n",
    "    temp = []\n",
    "    quarterlyPrices[quarter] = data_set[data_set[:,1] == quarter,2].astype(float)\n",
    "\n",
    "for key in quarterlyPrices.keys():\n",
    "  print(\"%s 매매 평균가격은 : %.4f\" % (key,quarterlyPrices[key].mean()))\n",
    "\n"
   ]
  },
  {
   "cell_type": "code",
   "execution_count": 66,
   "metadata": {},
   "outputs": [
    {
     "data": {
      "image/png": "[encoded data removed]",
      "text/plain": [
       "<Figure size 1500x800 with 2 Axes>"
      ]
     },
     "metadata": {},
     "output_type": "display_data"
    }
   ],
   "source": [
    "# Exercise 6\n",
    "\n",
    "import matplotlib.pyplot as plt\n",
    "\n",
    "quarters = np.array(list(quarterlyPrices.keys()))\n",
    "tradingCount = [len(quarterlyPrices[quarter]) for quarter in quarters]\n",
    "meanPrices = [quarterlyPrices[quarter].mean() for quarter in quarters]\n",
    "\n",
    "fig = plt.figure(figsize=(15,8))\n",
    "\n",
    "barPlot = fig.add_subplot(2,1,1)\n",
    "barPlot.bar(quarters,tradingCount, color=\"#353535\")\n",
    "\n",
    "linePlot = fig.add_subplot(2,1,2)\n",
    "linePlot.plot(quarters,meanPrices, \"ko-\", linewidth=1, markersize=2)\n",
    "\n",
    "plt.show()"
   ]
  }
 ],
 "metadata": {
  "kernelspec": {
   "display_name": "base",
   "language": "python",
   "name": "python3"
  },
  "language_info": {
   "codemirror_mode": {
    "name": "ipython",
    "version": 3
   },
   "file_extension": ".py",
   "mimetype": "text/x-python",
   "name": "python",
   "nbconvert_exporter": "python",
   "pygments_lexer": "ipython3",
   "version": "3.12.7"
  }
 },
 "nbformat": 4,
 "nbformat_minor": 2
}

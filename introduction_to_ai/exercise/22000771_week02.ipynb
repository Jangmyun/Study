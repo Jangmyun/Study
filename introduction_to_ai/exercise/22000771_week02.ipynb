{
 "cells": [
  {
   "cell_type": "code",
   "execution_count": 1,
   "metadata": {},
   "outputs": [],
   "source": [
    "# Exercise 1\n",
    "def sum(n: int) -> int:\n",
    "    if (n <= 0):\n",
    "        return 0\n",
    "    return n + sum(n-1)\n",
    "\n",
    "\n",
    "def is_odd(num: int) -> str:\n",
    "    if (num & 1 == 0):\n",
    "        return \"Even\"\n",
    "    return \"Odd\""
   ]
  },
  {
   "cell_type": "code",
   "execution_count": 2,
   "metadata": {},
   "outputs": [
    {
     "data": {
      "text/plain": [
       "55"
      ]
     },
     "execution_count": 2,
     "metadata": {},
     "output_type": "execute_result"
    }
   ],
   "source": [
    "sum(10)"
   ]
  },
  {
   "cell_type": "code",
   "execution_count": 3,
   "metadata": {},
   "outputs": [
    {
     "data": {
      "text/plain": [
       "'Odd'"
      ]
     },
     "execution_count": 3,
     "metadata": {},
     "output_type": "execute_result"
    }
   ],
   "source": [
    "is_odd(3)"
   ]
  },
  {
   "cell_type": "code",
   "execution_count": 4,
   "metadata": {},
   "outputs": [],
   "source": [
    "import numpy as np\n",
    "import openpyxl\n",
    "\n",
    "file = openpyxl.load_workbook(\"./data_set_train.xlsx\")\n",
    "ws = file.active\n",
    "\n",
    "data = []\n",
    "col = []\n",
    "\n",
    "for row in ws.iter_rows(max_row=1):\n",
    "  for cell in row:\n",
    "    col.append(cell.value)\n",
    "\n",
    "for row in ws. iter_rows(min_row=2):\n",
    "  ls = []\n",
    "  for cell in row:\n",
    "    ls.append(cell.value)\n",
    "  data.append(ls)"
   ]
  },
  {
   "cell_type": "code",
   "execution_count": 5,
   "metadata": {},
   "outputs": [
    {
     "data": {
      "text/plain": [
       "(17400, 29)"
      ]
     },
     "execution_count": 5,
     "metadata": {},
     "output_type": "execute_result"
    }
   ],
   "source": [
    "arr = np.array(data)\n",
    "arr.shape"
   ]
  },
  {
   "cell_type": "code",
   "execution_count": 6,
   "metadata": {},
   "outputs": [
    {
     "data": {
      "text/plain": [
       "array([['강남역우정에쉐르', '2006Q1', '9000.0', ..., '7.0', '37.4942041',\n",
       "        '127.0435446'],\n",
       "       ['강남역우정에쉐르', '2006Q1', '9000.0', ..., '7.0', '37.4942041',\n",
       "        '127.0435446'],\n",
       "       ['개포주공1단지', '2006Q1', '73000.0', ..., '3.0', '37.4784072',\n",
       "        '127.061375'],\n",
       "       ...,\n",
       "       ['현대하이츠', '2017Q3', '64000.0', ..., '1.0', '37.4913789',\n",
       "        '127.0348797'],\n",
       "       ['현대한강', '2017Q3', '170000.0', ..., '8.0', '37.5246752',\n",
       "        '127.056226'],\n",
       "       ['현대한강', '2017Q3', '170000.0', ..., '8.0', '37.5246752',\n",
       "        '127.056226']], shape=(17400, 9), dtype='<U32')"
      ]
     },
     "execution_count": 6,
     "metadata": {},
     "output_type": "execute_result"
    }
   ],
   "source": [
    "data_set = arr[:,:9] # 모든 행에서 첫 9개 \n",
    "data_set"
   ]
  },
  {
   "cell_type": "code",
   "execution_count": 7,
   "metadata": {},
   "outputs": [
    {
     "data": {
      "text/plain": [
       "array([['강남역우정에쉐르', '2006Q1', '9000.0', ..., '7.0', '37.4942041',\n",
       "        '127.0435446'],\n",
       "       ['강남역우정에쉐르', '2006Q1', '9000.0', ..., '7.0', '37.4942041',\n",
       "        '127.0435446'],\n",
       "       ['개포주공1단지', '2006Q1', '73000.0', ..., '3.0', '37.4784072',\n",
       "        '127.061375'],\n",
       "       ...,\n",
       "       ['현대빌라트', '2006Q4', '125000.0', ..., '3.0', '37.5179279',\n",
       "        '127.0428004'],\n",
       "       ['현대빌라트', '2006Q4', '125000.0', ..., '3.0', '37.5179279',\n",
       "        '127.0428004'],\n",
       "       ['현대빌라트', '2006Q4', '125000.0', ..., '3.0', '37.5179279',\n",
       "        '127.0428004']], shape=(2617, 9), dtype='<U32')"
      ]
     },
     "execution_count": 7,
     "metadata": {},
     "output_type": "execute_result"
    }
   ],
   "source": [
    "# Exercise 2\n",
    "data_set2006 = data_set[data_set[:,1] <= \"2006Q4\",:]\n",
    "data_set2006"
   ]
  },
  {
   "cell_type": "code",
   "execution_count": 8,
   "metadata": {},
   "outputs": [
    {
     "data": {
      "text/plain": [
       "(2617, 9)"
      ]
     },
     "execution_count": 8,
     "metadata": {},
     "output_type": "execute_result"
    }
   ],
   "source": [
    "data_set2006.shape"
   ]
  },
  {
   "cell_type": "code",
   "execution_count": null,
   "metadata": {},
   "outputs": [],
   "source": []
  },
  {
   "cell_type": "code",
   "execution_count": 9,
   "metadata": {},
   "outputs": [
    {
     "data": {
      "text/plain": [
       "dtype('<U32')"
      ]
     },
     "execution_count": 9,
     "metadata": {},
     "output_type": "execute_result"
    }
   ],
   "source": [
    "price = data_set2006[:,2]\n",
    "price.dtype"
   ]
  },
  {
   "cell_type": "code",
   "execution_count": 10,
   "metadata": {},
   "outputs": [
    {
     "name": "stdout",
     "output_type": "stream",
     "text": [
      "['강남역우정에쉐르' '2006Q1' '9000.0' '2004.0' '역삼동' '17.23' '7.0' '37.4942041'\n",
      " '127.0435446']\n"
     ]
    }
   ],
   "source": [
    "print(data_set2006[0])\n",
    "\n",
    "price = data_set2006[:,2].astype(float)\n",
    "lat = data_set2006[:,7].astype(float)\n",
    "lng = data_set2006[:,8].astype(float)"
   ]
  },
  {
   "cell_type": "code",
   "execution_count": 11,
   "metadata": {},
   "outputs": [],
   "source": [
    "# Exercise 3\n",
    "\n"
   ]
  },
  {
   "cell_type": "code",
   "execution_count": null,
   "metadata": {},
   "outputs": [
    {
     "ename": "SyntaxError",
     "evalue": "invalid syntax (1031854054.py, line 7)",
     "output_type": "error",
     "traceback": [
      "\u001b[0;36m  Cell \u001b[0;32mIn[12], line 7\u001b[0;36m\u001b[0m\n\u001b[0;31m    tmp =\u001b[0m\n\u001b[0m          ^\u001b[0m\n\u001b[0;31mSyntaxError\u001b[0m\u001b[0;31m:\u001b[0m invalid syntax\n"
     ]
    }
   ],
   "source": [
    "# Exercise 4 - Yearly Average Price\n",
    "# 년도 별 평균 매매가\n",
    "\n",
    "yearlyAvgPrice = {}\n",
    "\n",
    "for year in range(2006, 2018):\n",
    "  # tmp = "
   ]
  }
 ],
 "metadata": {
  "kernelspec": {
   "display_name": "base",
   "language": "python",
   "name": "python3"
  },
  "language_info": {
   "codemirror_mode": {
    "name": "ipython",
    "version": 3
   },
   "file_extension": ".py",
   "mimetype": "text/x-python",
   "name": "python",
   "nbconvert_exporter": "python",
   "pygments_lexer": "ipython3",
   "version": "3.12.7"
  }
 },
 "nbformat": 4,
 "nbformat_minor": 2
}

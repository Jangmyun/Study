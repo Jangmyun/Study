{
 "cells": [
  {
   "cell_type": "code",
   "execution_count": 1,
   "id": "8561a738-fb40-42ec-bcc7-cb263243028e",
   "metadata": {},
   "outputs": [],
   "source": [
    "def plot_images(img1, img2, img3, img4, img5):\n",
    "    plt.figure(figsize=[30, 10])\n",
    "    plt.subplot(151)\n",
    "    plt.imshow(img1.values.reshape((28,28)), cmap='gray')\n",
    "    plt.title('label-0 train data', fontsize=20)\n",
    "\n",
    "    plt.subplot(152)\n",
    "    plt.imshow(img2.values.reshape((28,28)), cmap='gray')\n",
    "    plt.title('label-1 train data', fontsize=20)\n",
    "    \n",
    "    plt.subplot(153)\n",
    "    plt.imshow(img5[:-1].values.reshape((28,28)), cmap='gray')\n",
    "    plt.title('test data', fontsize=20)\n",
    "    \n",
    "    plt.subplot(154)\n",
    "    plt.imshow(img3.reshape((28,28)), cmap='gray')\n",
    "    plt.title('1st test data & label-0 train data', fontsize=20)\n",
    "\n",
    "    plt.subplot(155)\n",
    "    plt.imshow(img4.reshape((28,28)), cmap='gray')\n",
    "    plt.title('1st test data & label-1 train data', fontsize=20)\n",
    "    plt.show()"
   ]
  },
  {
   "cell_type": "markdown",
   "id": "b0e44c08",
   "metadata": {},
   "source": []
  },
  {
   "cell_type": "code",
   "execution_count": null,
   "id": "4978b59d-98df-405e-ab0f-403504044b27",
   "metadata": {},
   "outputs": [],
   "source": []
  }
 ],
 "metadata": {
  "kernelspec": {
   "display_name": "Python 3 (ipykernel)",
   "language": "python",
   "name": "python3"
  },
  "language_info": {
   "codemirror_mode": {
    "name": "ipython",
    "version": 3
   },
   "file_extension": ".py",
   "mimetype": "text/x-python",
   "name": "python",
   "nbconvert_exporter": "python",
   "pygments_lexer": "ipython3",
   "version": "3.12.7"
  }
 },
 "nbformat": 4,
 "nbformat_minor": 5
}

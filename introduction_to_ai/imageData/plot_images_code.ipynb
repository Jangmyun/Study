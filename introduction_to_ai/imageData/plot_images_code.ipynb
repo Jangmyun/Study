{
 "cells": [
  {
   "cell_type": "code",
   "execution_count": null,
   "id": "8561a738-fb40-42ec-bcc7-cb263243028e",
   "metadata": {},
   "outputs": [],
   "source": [
    "import pickle\n",
    "import pandas as pd\n",
    "\n",
    "print('...loading data')\n",
    "with open('data/mnist.pkl, 'rb) as f:\n",
    "    train "
   ]
  },
  {
   "cell_type": "code",
   "execution_count": null,
   "id": "4978b59d-98df-405e-ab0f-403504044b27",
   "metadata": {},
   "outputs": [],
   "source": []
  }
 ],
 "metadata": {
  "kernelspec": {
   "display_name": "Python 3 (ipykernel)",
   "language": "python",
   "name": "python3"
  },
  "language_info": {
   "codemirror_mode": {
    "name": "ipython",
    "version": 3
   },
   "file_extension": ".py",
   "mimetype": "text/x-python",
   "name": "python",
   "nbconvert_exporter": "python",
   "pygments_lexer": "ipython3",
   "version": "3.12.7"
  }
 },
 "nbformat": 4,
 "nbformat_minor": 5
}

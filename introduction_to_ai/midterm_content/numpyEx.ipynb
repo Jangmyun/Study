{
 "cells": [
  {
   "cell_type": "markdown",
   "id": "46625529",
   "metadata": {},
   "source": [
    "# Numpy"
   ]
  },
  {
   "cell_type": "code",
   "execution_count": 2,
   "id": "bb92cb05",
   "metadata": {},
   "outputs": [],
   "source": [
    "import numpy as np"
   ]
  },
  {
   "cell_type": "markdown",
   "id": "ca4dc222",
   "metadata": {},
   "source": [
    "### adding / removing elements"
   ]
  },
  {
   "cell_type": "code",
   "execution_count": 3,
   "id": "dacbbe5e",
   "metadata": {},
   "outputs": [
    {
     "data": {
      "text/plain": [
       "array([ 0,  1,  2,  3,  4,  5,  6,  7,  8,  9, 10])"
      ]
     },
     "execution_count": 3,
     "metadata": {},
     "output_type": "execute_result"
    }
   ],
   "source": [
    "# create array\n",
    "\n",
    "np.array([0,1,2,3,4,5,6,7,8,9,10], dtype=int)"
   ]
  },
  {
   "cell_type": "code",
   "execution_count": 4,
   "id": "28cb13d7",
   "metadata": {},
   "outputs": [
    {
     "data": {
      "text/plain": [
       "array([[0, 0, 0, 0, 0],\n",
       "       [0, 0, 0, 0, 0],\n",
       "       [0, 0, 0, 0, 0]])"
      ]
     },
     "execution_count": 4,
     "metadata": {},
     "output_type": "execute_result"
    }
   ],
   "source": [
    "np.zeros((3,5), dtype=int)"
   ]
  },
  {
   "cell_type": "code",
   "execution_count": 5,
   "id": "d346f1a2",
   "metadata": {},
   "outputs": [
    {
     "data": {
      "text/plain": [
       "array([[1, 1, 1, 1, 1, 1, 1, 1, 1, 1],\n",
       "       [1, 1, 1, 1, 1, 1, 1, 1, 1, 1]])"
      ]
     },
     "execution_count": 5,
     "metadata": {},
     "output_type": "execute_result"
    }
   ],
   "source": [
    "np.ones((2,10), dtype=int)"
   ]
  },
  {
   "cell_type": "code",
   "execution_count": 6,
   "id": "8b65febe",
   "metadata": {},
   "outputs": [
    {
     "data": {
      "text/plain": [
       "array([[0.23589138, 0.82024665, 0.63125639, 0.20708568],\n",
       "       [0.11449063, 0.29126586, 0.49205141, 0.63591251],\n",
       "       [0.46008214, 0.45791665, 0.5068899 , 0.74538091]])"
      ]
     },
     "execution_count": 6,
     "metadata": {},
     "output_type": "execute_result"
    }
   ],
   "source": [
    "np.random.rand(3,4)"
   ]
  },
  {
   "cell_type": "code",
   "execution_count": null,
   "id": "be323305",
   "metadata": {},
   "outputs": [
    {
     "data": {
      "text/plain": [
       "array([[-0.06723036,  1.12644136, -1.38999597,  1.39782055, -1.66765132],\n",
       "       [ 0.99971474,  0.52540546,  1.47274185,  0.11869511, -0.36632911],\n",
       "       [-0.99335875,  0.4981202 , -0.0851935 ,  0.90978677,  0.39193158]])"
      ]
     },
     "execution_count": 7,
     "metadata": {},
     "output_type": "execute_result"
    }
   ],
   "source": [
    "np.random.randn(3,5) # standard normarl (mean 0, std 1) distribution"
   ]
  },
  {
   "cell_type": "code",
   "execution_count": 8,
   "id": "9194bf03",
   "metadata": {},
   "outputs": [
    {
     "data": {
      "text/plain": [
       "array([[1., 1., 1., 1.],\n",
       "       [1., 1., 1., 1.]])"
      ]
     },
     "execution_count": 8,
     "metadata": {},
     "output_type": "execute_result"
    }
   ],
   "source": [
    "ndarray = np.ones((2,4))\n",
    "ndarray"
   ]
  },
  {
   "cell_type": "code",
   "execution_count": 9,
   "id": "0352d266",
   "metadata": {},
   "outputs": [
    {
     "data": {
      "text/plain": [
       "(2, 4)"
      ]
     },
     "execution_count": 9,
     "metadata": {},
     "output_type": "execute_result"
    }
   ],
   "source": [
    "ndarray.shape"
   ]
  },
  {
   "cell_type": "code",
   "execution_count": 10,
   "id": "e5081eea",
   "metadata": {},
   "outputs": [
    {
     "data": {
      "text/plain": [
       "2"
      ]
     },
     "execution_count": 10,
     "metadata": {},
     "output_type": "execute_result"
    }
   ],
   "source": [
    "ndarray.ndim"
   ]
  },
  {
   "cell_type": "code",
   "execution_count": null,
   "id": "63ded0a7",
   "metadata": {},
   "outputs": [
    {
     "data": {
      "text/plain": [
       "array([[1., 1.],\n",
       "       [1., 1.],\n",
       "       [1., 1.],\n",
       "       [1., 1.]])"
      ]
     },
     "execution_count": 11,
     "metadata": {},
     "output_type": "execute_result"
    }
   ],
   "source": [
    "# return same data with a new shape\n",
    "ndarray.reshape(4,2)"
   ]
  },
  {
   "cell_type": "code",
   "execution_count": 12,
   "id": "c0fcc77a",
   "metadata": {},
   "outputs": [
    {
     "data": {
      "text/plain": [
       "array([[1., 1., 1., 1., 1., 1., 1., 1.]])"
      ]
     },
     "execution_count": 12,
     "metadata": {},
     "output_type": "execute_result"
    }
   ],
   "source": [
    "ndarray.reshape(1,-1)"
   ]
  },
  {
   "cell_type": "code",
   "execution_count": 13,
   "id": "bdb70882",
   "metadata": {},
   "outputs": [
    {
     "data": {
      "text/plain": [
       "dtype('float64')"
      ]
     },
     "execution_count": 13,
     "metadata": {},
     "output_type": "execute_result"
    }
   ],
   "source": [
    "ndarray.dtype"
   ]
  },
  {
   "cell_type": "code",
   "execution_count": 14,
   "id": "f921e6a4",
   "metadata": {},
   "outputs": [
    {
     "data": {
      "text/plain": [
       "array([[ 2,  3,  4,  5,  6],\n",
       "       [ 7,  8,  9, 10, 11],\n",
       "       [12, 13, 14, 15, 16],\n",
       "       [17, 18, 19, 20, 21]])"
      ]
     },
     "execution_count": 14,
     "metadata": {},
     "output_type": "execute_result"
    }
   ],
   "source": [
    "ndarray1 = np.arange(2,22).reshape(4,5)\n",
    "ndarray1"
   ]
  },
  {
   "cell_type": "code",
   "execution_count": 16,
   "id": "333c5865",
   "metadata": {},
   "outputs": [
    {
     "data": {
      "text/plain": [
       "array([[0],\n",
       "       [1],\n",
       "       [2],\n",
       "       [3],\n",
       "       [4]])"
      ]
     },
     "execution_count": 16,
     "metadata": {},
     "output_type": "execute_result"
    }
   ],
   "source": [
    "ndarray2 = np.arange(0,5).reshape(5,1)\n",
    "ndarray2"
   ]
  },
  {
   "cell_type": "code",
   "execution_count": null,
   "id": "c33c0b0b",
   "metadata": {},
   "outputs": [
    {
     "data": {
      "text/plain": [
       "array([[ 50],\n",
       "       [100],\n",
       "       [150],\n",
       "       [200]])"
      ]
     },
     "execution_count": 17,
     "metadata": {},
     "output_type": "execute_result"
    }
   ],
   "source": [
    "# ndarray.dot => dot product 내적\n",
    "ndarray3 = np.dot(ndarray1,ndarray2)\n",
    "ndarray3"
   ]
  },
  {
   "cell_type": "code",
   "execution_count": 18,
   "id": "bbaf3ead",
   "metadata": {},
   "outputs": [
    {
     "data": {
      "text/plain": [
       "array([[ 50, 100, 150, 200]])"
      ]
     },
     "execution_count": 18,
     "metadata": {},
     "output_type": "execute_result"
    }
   ],
   "source": [
    "ndarray3.T"
   ]
  },
  {
   "cell_type": "code",
   "execution_count": 20,
   "id": "fade4b4d",
   "metadata": {},
   "outputs": [
    {
     "data": {
      "text/plain": [
       "array([[ 50, 100],\n",
       "       [150, 200]])"
      ]
     },
     "execution_count": 20,
     "metadata": {},
     "output_type": "execute_result"
    }
   ],
   "source": [
    "ndarray4 = ndarray3.reshape(2,2)\n",
    "ndarray4"
   ]
  },
  {
   "cell_type": "code",
   "execution_count": 21,
   "id": "4949126e",
   "metadata": {},
   "outputs": [
    {
     "data": {
      "text/plain": [
       "array([[ 50, 150],\n",
       "       [100, 200]])"
      ]
     },
     "execution_count": 21,
     "metadata": {},
     "output_type": "execute_result"
    }
   ],
   "source": [
    "ndarray4.T"
   ]
  },
  {
   "cell_type": "code",
   "execution_count": 22,
   "id": "972e96b9",
   "metadata": {},
   "outputs": [
    {
     "data": {
      "text/plain": [
       "array([[100, 200],\n",
       "       [300, 400]])"
      ]
     },
     "execution_count": 22,
     "metadata": {},
     "output_type": "execute_result"
    }
   ],
   "source": [
    "np.add(ndarray4,ndarray4)"
   ]
  },
  {
   "cell_type": "code",
   "execution_count": 23,
   "id": "ef46702f",
   "metadata": {},
   "outputs": [
    {
     "data": {
      "text/plain": [
       "array([[  0, -50],\n",
       "       [ 50,   0]])"
      ]
     },
     "execution_count": 23,
     "metadata": {},
     "output_type": "execute_result"
    }
   ],
   "source": [
    "np.subtract(ndarray4, ndarray4.T)"
   ]
  },
  {
   "cell_type": "code",
   "execution_count": null,
   "id": "3bd83d3f",
   "metadata": {},
   "outputs": [],
   "source": []
  }
 ],
 "metadata": {
  "kernelspec": {
   "display_name": "base",
   "language": "python",
   "name": "python3"
  },
  "language_info": {
   "codemirror_mode": {
    "name": "ipython",
    "version": 3
   },
   "file_extension": ".py",
   "mimetype": "text/x-python",
   "name": "python",
   "nbconvert_exporter": "python",
   "pygments_lexer": "ipython3",
   "version": "3.12.7"
  }
 },
 "nbformat": 4,
 "nbformat_minor": 5
}

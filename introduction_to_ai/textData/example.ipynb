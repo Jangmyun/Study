{
 "cells": [
  {
   "cell_type": "code",
   "execution_count": null,
   "metadata": {},
   "outputs": [],
   "source": [
    "str_data = \"\"\"<html><h2>What is nlp??? </h2></html> \\nNatural Language\n",
    "Processing, or NLP for short, is broadly defined as the automatic\n",
    "manipulation of natural language, like speech and text, by\n",
    "software.\\nThe study of natural language processing has been around\n",
    "for more than 50 years and grew out of the field of linguistics with the\n",
    "rise of computers.\\n(In this post), you will discover what natural\n",
    "language processing is and why it is so important.\\nAfter reading this\n",
    "post, you will know => What natural language is and how it is different\n",
    "from other types of data.\"\"\""
   ]
  },
  {
   "cell_type": "code",
   "execution_count": null,
   "metadata": {},
   "outputs": [
    {
     "ename": "ModuleNotFoundError",
     "evalue": "No module named 'BeautifulSoup'",
     "output_type": "error",
     "traceback": [
      "\u001b[0;31m---------------------------------------------------------------------------\u001b[0m",
      "\u001b[0;31mModuleNotFoundError\u001b[0m                       Traceback (most recent call last)",
      "Cell \u001b[0;32mIn[5], line 1\u001b[0m\n\u001b[0;32m----> 1\u001b[0m \u001b[38;5;28;01mimport\u001b[39;00m \u001b[38;5;21;01mBeautifulSoup\u001b[39;00m\n\u001b[1;32m      3\u001b[0m \u001b[38;5;28;01mdef\u001b[39;00m \u001b[38;5;21mremove_html\u001b[39m(text_data):\n\u001b[1;32m      4\u001b[0m   soup \u001b[38;5;241m=\u001b[39m BeautifulSoup(text_data, \u001b[38;5;124m'\u001b[39m\u001b[38;5;124mlxml\u001b[39m\u001b[38;5;124m'\u001b[39m)\n",
      "\u001b[0;31mModuleNotFoundError\u001b[0m: No module named 'BeautifulSoup'"
     ]
    }
   ],
   "source": [
    "def remove_html(text_data):\n",
    "  soup = BeautifulSoup(text_data, 'lxml')\n",
    "  return soup.get_text()\n",
    "\n",
    "processed_text = remove_html(str_data)\n",
    "print(processed_text)"
   ]
  }
 ],
 "metadata": {
  "kernelspec": {
   "display_name": "base",
   "language": "python",
   "name": "python3"
  },
  "language_info": {
   "codemirror_mode": {
    "name": "ipython",
    "version": 3
   },
   "file_extension": ".py",
   "mimetype": "text/x-python",
   "name": "python",
   "nbconvert_exporter": "python",
   "pygments_lexer": "ipython3",
   "version": "3.12.7"
  }
 },
 "nbformat": 4,
 "nbformat_minor": 2
}
